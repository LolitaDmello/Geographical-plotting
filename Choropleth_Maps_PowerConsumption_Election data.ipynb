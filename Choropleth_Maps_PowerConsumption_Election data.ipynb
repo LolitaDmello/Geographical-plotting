{
  "cells": [
    {
      "cell_type": "markdown",
      "metadata": {
        "id": "E_c0Vvmhsbi9"
      },
      "source": [
        "# Choropleth Maps Exercise - Solutions\n",
        "\n",
        "Welcome to the Choropleth Maps Exercise! In this exercise we will give you some simple datasets and ask you to create Choropleth Maps from them. Due to the Nature of Plotly we can't show you examples embedded inside the notebook.\n",
        "\n",
        "[Full Documentation Reference](https://plot.ly/python/reference/#choropleth)\n",
        "\n",
        "## Plotly Imports"
      ]
    },
    {
      "cell_type": "code",
      "source": [
        "!pip install plotly"
      ],
      "metadata": {
        "colab": {
          "base_uri": "https://localhost:8080/"
        },
        "id": "lBWCHQXBskQa",
        "outputId": "8adcad16-929c-483f-b8a3-393384f73b35"
      },
      "execution_count": 1,
      "outputs": [
        {
          "output_type": "stream",
          "name": "stdout",
          "text": [
            "Requirement already satisfied: plotly in /usr/local/lib/python3.10/dist-packages (5.15.0)\n",
            "Requirement already satisfied: tenacity>=6.2.0 in /usr/local/lib/python3.10/dist-packages (from plotly) (8.2.3)\n",
            "Requirement already satisfied: packaging in /usr/local/lib/python3.10/dist-packages (from plotly) (23.2)\n"
          ]
        }
      ]
    },
    {
      "cell_type": "code",
      "source": [
        "!pip install chart-studio"
      ],
      "metadata": {
        "colab": {
          "base_uri": "https://localhost:8080/"
        },
        "id": "wY5LmAxRsvez",
        "outputId": "2d8b5cbd-7a60-4a00-fafd-980d938cbc82"
      },
      "execution_count": 2,
      "outputs": [
        {
          "output_type": "stream",
          "name": "stdout",
          "text": [
            "Collecting chart-studio\n",
            "  Downloading chart_studio-1.1.0-py3-none-any.whl (64 kB)\n",
            "\u001b[2K     \u001b[90m━━━━━━━━━━━━━━━━━━━━━━━━━━━━━━━━━━━━━━━━\u001b[0m \u001b[32m64.4/64.4 kB\u001b[0m \u001b[31m670.6 kB/s\u001b[0m eta \u001b[36m0:00:00\u001b[0m\n",
            "\u001b[?25hRequirement already satisfied: plotly in /usr/local/lib/python3.10/dist-packages (from chart-studio) (5.15.0)\n",
            "Requirement already satisfied: requests in /usr/local/lib/python3.10/dist-packages (from chart-studio) (2.31.0)\n",
            "Collecting retrying>=1.3.3 (from chart-studio)\n",
            "  Downloading retrying-1.3.4-py3-none-any.whl (11 kB)\n",
            "Requirement already satisfied: six in /usr/local/lib/python3.10/dist-packages (from chart-studio) (1.16.0)\n",
            "Requirement already satisfied: tenacity>=6.2.0 in /usr/local/lib/python3.10/dist-packages (from plotly->chart-studio) (8.2.3)\n",
            "Requirement already satisfied: packaging in /usr/local/lib/python3.10/dist-packages (from plotly->chart-studio) (23.2)\n",
            "Requirement already satisfied: charset-normalizer<4,>=2 in /usr/local/lib/python3.10/dist-packages (from requests->chart-studio) (3.3.2)\n",
            "Requirement already satisfied: idna<4,>=2.5 in /usr/local/lib/python3.10/dist-packages (from requests->chart-studio) (3.4)\n",
            "Requirement already satisfied: urllib3<3,>=1.21.1 in /usr/local/lib/python3.10/dist-packages (from requests->chart-studio) (2.0.7)\n",
            "Requirement already satisfied: certifi>=2017.4.17 in /usr/local/lib/python3.10/dist-packages (from requests->chart-studio) (2023.7.22)\n",
            "Installing collected packages: retrying, chart-studio\n",
            "Successfully installed chart-studio-1.1.0 retrying-1.3.4\n"
          ]
        }
      ]
    },
    {
      "cell_type": "code",
      "source": [
        "import chart_studio.plotly as py\n",
        "import pandas as pd"
      ],
      "metadata": {
        "id": "mHa-TJ67sx1h"
      },
      "execution_count": null,
      "outputs": []
    },
    {
      "cell_type": "code",
      "execution_count": 3,
      "metadata": {
        "colab": {
          "base_uri": "https://localhost:8080/",
          "height": 17
        },
        "id": "-0ELoPIesbi-",
        "outputId": "593ac071-d898-461b-897d-673632ff33ea"
      },
      "outputs": [
        {
          "output_type": "display_data",
          "data": {
            "text/html": [
              "        <script type=\"text/javascript\">\n",
              "        window.PlotlyConfig = {MathJaxConfig: 'local'};\n",
              "        if (window.MathJax && window.MathJax.Hub && window.MathJax.Hub.Config) {window.MathJax.Hub.Config({SVG: {font: \"STIX-Web\"}});}\n",
              "        if (typeof require !== 'undefined') {\n",
              "        require.undef(\"plotly\");\n",
              "        requirejs.config({\n",
              "            paths: {\n",
              "                'plotly': ['https://cdn.plot.ly/plotly-2.24.1.min']\n",
              "            }\n",
              "        });\n",
              "        require(['plotly'], function(Plotly) {\n",
              "            window._Plotly = Plotly;\n",
              "        });\n",
              "        }\n",
              "        </script>\n",
              "        "
            ]
          },
          "metadata": {}
        }
      ],
      "source": [
        "import plotly.graph_objs as go\n",
        "from plotly.offline import init_notebook_mode,iplot,plot\n",
        "init_notebook_mode(connected=True)"
      ]
    },
    {
      "cell_type": "markdown",
      "metadata": {
        "id": "UQOLs11esbi_"
      },
      "source": [
        "** Import pandas and read the csv file: 2014_World_Power_Consumption**"
      ]
    },
    {
      "cell_type": "code",
      "execution_count": 4,
      "metadata": {
        "collapsed": true,
        "id": "n5NJnojDsbi_"
      },
      "outputs": [],
      "source": [
        "import pandas as pd"
      ]
    },
    {
      "cell_type": "code",
      "execution_count": 5,
      "metadata": {
        "id": "iUXyZz6Fsbi_"
      },
      "outputs": [],
      "source": [
        "df = pd.read_csv('2014_World_Power_Consumption')"
      ]
    },
    {
      "cell_type": "markdown",
      "metadata": {
        "id": "VaPk2yplsbjA"
      },
      "source": [
        "** Check the head of the DataFrame. **"
      ]
    },
    {
      "cell_type": "code",
      "execution_count": 6,
      "metadata": {
        "colab": {
          "base_uri": "https://localhost:8080/",
          "height": 206
        },
        "id": "UTqIMfDksbjA",
        "outputId": "80c0acbf-ca48-46b0-b23d-b97945354ffc"
      },
      "outputs": [
        {
          "output_type": "execute_result",
          "data": {
            "text/plain": [
              "         Country  Power Consumption KWH                        Text\n",
              "0          China           5.523000e+12     China 5,523,000,000,000\n",
              "1  United States           3.832000e+12    United 3,832,000,000,000\n",
              "2       European           2.771000e+12  European 2,771,000,000,000\n",
              "3         Russia           1.065000e+12    Russia 1,065,000,000,000\n",
              "4          Japan           9.210000e+11       Japan 921,000,000,000"
            ],
            "text/html": [
              "\n",
              "  <div id=\"df-70f71154-807a-4fe1-8f8a-5410dad91ae7\" class=\"colab-df-container\">\n",
              "    <div>\n",
              "<style scoped>\n",
              "    .dataframe tbody tr th:only-of-type {\n",
              "        vertical-align: middle;\n",
              "    }\n",
              "\n",
              "    .dataframe tbody tr th {\n",
              "        vertical-align: top;\n",
              "    }\n",
              "\n",
              "    .dataframe thead th {\n",
              "        text-align: right;\n",
              "    }\n",
              "</style>\n",
              "<table border=\"1\" class=\"dataframe\">\n",
              "  <thead>\n",
              "    <tr style=\"text-align: right;\">\n",
              "      <th></th>\n",
              "      <th>Country</th>\n",
              "      <th>Power Consumption KWH</th>\n",
              "      <th>Text</th>\n",
              "    </tr>\n",
              "  </thead>\n",
              "  <tbody>\n",
              "    <tr>\n",
              "      <th>0</th>\n",
              "      <td>China</td>\n",
              "      <td>5.523000e+12</td>\n",
              "      <td>China 5,523,000,000,000</td>\n",
              "    </tr>\n",
              "    <tr>\n",
              "      <th>1</th>\n",
              "      <td>United States</td>\n",
              "      <td>3.832000e+12</td>\n",
              "      <td>United 3,832,000,000,000</td>\n",
              "    </tr>\n",
              "    <tr>\n",
              "      <th>2</th>\n",
              "      <td>European</td>\n",
              "      <td>2.771000e+12</td>\n",
              "      <td>European 2,771,000,000,000</td>\n",
              "    </tr>\n",
              "    <tr>\n",
              "      <th>3</th>\n",
              "      <td>Russia</td>\n",
              "      <td>1.065000e+12</td>\n",
              "      <td>Russia 1,065,000,000,000</td>\n",
              "    </tr>\n",
              "    <tr>\n",
              "      <th>4</th>\n",
              "      <td>Japan</td>\n",
              "      <td>9.210000e+11</td>\n",
              "      <td>Japan 921,000,000,000</td>\n",
              "    </tr>\n",
              "  </tbody>\n",
              "</table>\n",
              "</div>\n",
              "    <div class=\"colab-df-buttons\">\n",
              "\n",
              "  <div class=\"colab-df-container\">\n",
              "    <button class=\"colab-df-convert\" onclick=\"convertToInteractive('df-70f71154-807a-4fe1-8f8a-5410dad91ae7')\"\n",
              "            title=\"Convert this dataframe to an interactive table.\"\n",
              "            style=\"display:none;\">\n",
              "\n",
              "  <svg xmlns=\"http://www.w3.org/2000/svg\" height=\"24px\" viewBox=\"0 -960 960 960\">\n",
              "    <path d=\"M120-120v-720h720v720H120Zm60-500h600v-160H180v160Zm220 220h160v-160H400v160Zm0 220h160v-160H400v160ZM180-400h160v-160H180v160Zm440 0h160v-160H620v160ZM180-180h160v-160H180v160Zm440 0h160v-160H620v160Z\"/>\n",
              "  </svg>\n",
              "    </button>\n",
              "\n",
              "  <style>\n",
              "    .colab-df-container {\n",
              "      display:flex;\n",
              "      gap: 12px;\n",
              "    }\n",
              "\n",
              "    .colab-df-convert {\n",
              "      background-color: #E8F0FE;\n",
              "      border: none;\n",
              "      border-radius: 50%;\n",
              "      cursor: pointer;\n",
              "      display: none;\n",
              "      fill: #1967D2;\n",
              "      height: 32px;\n",
              "      padding: 0 0 0 0;\n",
              "      width: 32px;\n",
              "    }\n",
              "\n",
              "    .colab-df-convert:hover {\n",
              "      background-color: #E2EBFA;\n",
              "      box-shadow: 0px 1px 2px rgba(60, 64, 67, 0.3), 0px 1px 3px 1px rgba(60, 64, 67, 0.15);\n",
              "      fill: #174EA6;\n",
              "    }\n",
              "\n",
              "    .colab-df-buttons div {\n",
              "      margin-bottom: 4px;\n",
              "    }\n",
              "\n",
              "    [theme=dark] .colab-df-convert {\n",
              "      background-color: #3B4455;\n",
              "      fill: #D2E3FC;\n",
              "    }\n",
              "\n",
              "    [theme=dark] .colab-df-convert:hover {\n",
              "      background-color: #434B5C;\n",
              "      box-shadow: 0px 1px 3px 1px rgba(0, 0, 0, 0.15);\n",
              "      filter: drop-shadow(0px 1px 2px rgba(0, 0, 0, 0.3));\n",
              "      fill: #FFFFFF;\n",
              "    }\n",
              "  </style>\n",
              "\n",
              "    <script>\n",
              "      const buttonEl =\n",
              "        document.querySelector('#df-70f71154-807a-4fe1-8f8a-5410dad91ae7 button.colab-df-convert');\n",
              "      buttonEl.style.display =\n",
              "        google.colab.kernel.accessAllowed ? 'block' : 'none';\n",
              "\n",
              "      async function convertToInteractive(key) {\n",
              "        const element = document.querySelector('#df-70f71154-807a-4fe1-8f8a-5410dad91ae7');\n",
              "        const dataTable =\n",
              "          await google.colab.kernel.invokeFunction('convertToInteractive',\n",
              "                                                    [key], {});\n",
              "        if (!dataTable) return;\n",
              "\n",
              "        const docLinkHtml = 'Like what you see? Visit the ' +\n",
              "          '<a target=\"_blank\" href=https://colab.research.google.com/notebooks/data_table.ipynb>data table notebook</a>'\n",
              "          + ' to learn more about interactive tables.';\n",
              "        element.innerHTML = '';\n",
              "        dataTable['output_type'] = 'display_data';\n",
              "        await google.colab.output.renderOutput(dataTable, element);\n",
              "        const docLink = document.createElement('div');\n",
              "        docLink.innerHTML = docLinkHtml;\n",
              "        element.appendChild(docLink);\n",
              "      }\n",
              "    </script>\n",
              "  </div>\n",
              "\n",
              "\n",
              "<div id=\"df-60c3237b-771b-4a78-ab11-cd6cb042db97\">\n",
              "  <button class=\"colab-df-quickchart\" onclick=\"quickchart('df-60c3237b-771b-4a78-ab11-cd6cb042db97')\"\n",
              "            title=\"Suggest charts\"\n",
              "            style=\"display:none;\">\n",
              "\n",
              "<svg xmlns=\"http://www.w3.org/2000/svg\" height=\"24px\"viewBox=\"0 0 24 24\"\n",
              "     width=\"24px\">\n",
              "    <g>\n",
              "        <path d=\"M19 3H5c-1.1 0-2 .9-2 2v14c0 1.1.9 2 2 2h14c1.1 0 2-.9 2-2V5c0-1.1-.9-2-2-2zM9 17H7v-7h2v7zm4 0h-2V7h2v10zm4 0h-2v-4h2v4z\"/>\n",
              "    </g>\n",
              "</svg>\n",
              "  </button>\n",
              "\n",
              "<style>\n",
              "  .colab-df-quickchart {\n",
              "      --bg-color: #E8F0FE;\n",
              "      --fill-color: #1967D2;\n",
              "      --hover-bg-color: #E2EBFA;\n",
              "      --hover-fill-color: #174EA6;\n",
              "      --disabled-fill-color: #AAA;\n",
              "      --disabled-bg-color: #DDD;\n",
              "  }\n",
              "\n",
              "  [theme=dark] .colab-df-quickchart {\n",
              "      --bg-color: #3B4455;\n",
              "      --fill-color: #D2E3FC;\n",
              "      --hover-bg-color: #434B5C;\n",
              "      --hover-fill-color: #FFFFFF;\n",
              "      --disabled-bg-color: #3B4455;\n",
              "      --disabled-fill-color: #666;\n",
              "  }\n",
              "\n",
              "  .colab-df-quickchart {\n",
              "    background-color: var(--bg-color);\n",
              "    border: none;\n",
              "    border-radius: 50%;\n",
              "    cursor: pointer;\n",
              "    display: none;\n",
              "    fill: var(--fill-color);\n",
              "    height: 32px;\n",
              "    padding: 0;\n",
              "    width: 32px;\n",
              "  }\n",
              "\n",
              "  .colab-df-quickchart:hover {\n",
              "    background-color: var(--hover-bg-color);\n",
              "    box-shadow: 0 1px 2px rgba(60, 64, 67, 0.3), 0 1px 3px 1px rgba(60, 64, 67, 0.15);\n",
              "    fill: var(--button-hover-fill-color);\n",
              "  }\n",
              "\n",
              "  .colab-df-quickchart-complete:disabled,\n",
              "  .colab-df-quickchart-complete:disabled:hover {\n",
              "    background-color: var(--disabled-bg-color);\n",
              "    fill: var(--disabled-fill-color);\n",
              "    box-shadow: none;\n",
              "  }\n",
              "\n",
              "  .colab-df-spinner {\n",
              "    border: 2px solid var(--fill-color);\n",
              "    border-color: transparent;\n",
              "    border-bottom-color: var(--fill-color);\n",
              "    animation:\n",
              "      spin 1s steps(1) infinite;\n",
              "  }\n",
              "\n",
              "  @keyframes spin {\n",
              "    0% {\n",
              "      border-color: transparent;\n",
              "      border-bottom-color: var(--fill-color);\n",
              "      border-left-color: var(--fill-color);\n",
              "    }\n",
              "    20% {\n",
              "      border-color: transparent;\n",
              "      border-left-color: var(--fill-color);\n",
              "      border-top-color: var(--fill-color);\n",
              "    }\n",
              "    30% {\n",
              "      border-color: transparent;\n",
              "      border-left-color: var(--fill-color);\n",
              "      border-top-color: var(--fill-color);\n",
              "      border-right-color: var(--fill-color);\n",
              "    }\n",
              "    40% {\n",
              "      border-color: transparent;\n",
              "      border-right-color: var(--fill-color);\n",
              "      border-top-color: var(--fill-color);\n",
              "    }\n",
              "    60% {\n",
              "      border-color: transparent;\n",
              "      border-right-color: var(--fill-color);\n",
              "    }\n",
              "    80% {\n",
              "      border-color: transparent;\n",
              "      border-right-color: var(--fill-color);\n",
              "      border-bottom-color: var(--fill-color);\n",
              "    }\n",
              "    90% {\n",
              "      border-color: transparent;\n",
              "      border-bottom-color: var(--fill-color);\n",
              "    }\n",
              "  }\n",
              "</style>\n",
              "\n",
              "  <script>\n",
              "    async function quickchart(key) {\n",
              "      const quickchartButtonEl =\n",
              "        document.querySelector('#' + key + ' button');\n",
              "      quickchartButtonEl.disabled = true;  // To prevent multiple clicks.\n",
              "      quickchartButtonEl.classList.add('colab-df-spinner');\n",
              "      try {\n",
              "        const charts = await google.colab.kernel.invokeFunction(\n",
              "            'suggestCharts', [key], {});\n",
              "      } catch (error) {\n",
              "        console.error('Error during call to suggestCharts:', error);\n",
              "      }\n",
              "      quickchartButtonEl.classList.remove('colab-df-spinner');\n",
              "      quickchartButtonEl.classList.add('colab-df-quickchart-complete');\n",
              "    }\n",
              "    (() => {\n",
              "      let quickchartButtonEl =\n",
              "        document.querySelector('#df-60c3237b-771b-4a78-ab11-cd6cb042db97 button');\n",
              "      quickchartButtonEl.style.display =\n",
              "        google.colab.kernel.accessAllowed ? 'block' : 'none';\n",
              "    })();\n",
              "  </script>\n",
              "</div>\n",
              "    </div>\n",
              "  </div>\n"
            ]
          },
          "metadata": {},
          "execution_count": 6
        }
      ],
      "source": [
        "df.head()"
      ]
    },
    {
      "cell_type": "code",
      "source": [
        "df.shape"
      ],
      "metadata": {
        "colab": {
          "base_uri": "https://localhost:8080/"
        },
        "id": "fjmWoRj8tt1q",
        "outputId": "454f918f-5f50-489a-9f9b-86ea685a0982"
      },
      "execution_count": 8,
      "outputs": [
        {
          "output_type": "execute_result",
          "data": {
            "text/plain": [
              "(219, 3)"
            ]
          },
          "metadata": {},
          "execution_count": 8
        }
      ]
    },
    {
      "cell_type": "code",
      "source": [
        "df.info()"
      ],
      "metadata": {
        "colab": {
          "base_uri": "https://localhost:8080/"
        },
        "id": "giAOe8Hrtwzc",
        "outputId": "47ce785a-4188-4dff-8fd9-2dd4274db826"
      },
      "execution_count": 9,
      "outputs": [
        {
          "output_type": "stream",
          "name": "stdout",
          "text": [
            "<class 'pandas.core.frame.DataFrame'>\n",
            "RangeIndex: 219 entries, 0 to 218\n",
            "Data columns (total 3 columns):\n",
            " #   Column                 Non-Null Count  Dtype  \n",
            "---  ------                 --------------  -----  \n",
            " 0   Country                219 non-null    object \n",
            " 1   Power Consumption KWH  219 non-null    float64\n",
            " 2   Text                   219 non-null    object \n",
            "dtypes: float64(1), object(2)\n",
            "memory usage: 5.3+ KB\n"
          ]
        }
      ]
    },
    {
      "cell_type": "markdown",
      "metadata": {
        "id": "LwQ0sgursbjA"
      },
      "source": [
        "**create a Choropleth Plot of the Power Consumption for Countries using the data and layout dictionary.**"
      ]
    },
    {
      "cell_type": "code",
      "source": [
        "data=dict(type='choropleth',\n",
        "          locations=df['Country'],\n",
        "          locationmode = 'country names',\n",
        "          z=df['Power Consumption KWH'],\n",
        "          text=df['Country'],\n",
        "          colorscale='purples',\n",
        "          reversescale = True,\n",
        "          colorbar={'title':'Power Consumption in KWH\t'})"
      ],
      "metadata": {
        "id": "tnfq-TpStSCS"
      },
      "execution_count": 21,
      "outputs": []
    },
    {
      "cell_type": "code",
      "source": [
        "layout=dict(title='2014 world Power Consumption',\n",
        "            geo=dict(showframe = False, projection=dict(type='natural earth')))"
      ],
      "metadata": {
        "id": "3NZ17xgRugh8"
      },
      "execution_count": 22,
      "outputs": []
    },
    {
      "cell_type": "code",
      "source": [
        "choromap = go.Figure(data = [data],layout = layout)\n",
        "plot(choromap)"
      ],
      "metadata": {
        "colab": {
          "base_uri": "https://localhost:8080/",
          "height": 36
        },
        "id": "hTfEjo3tu834",
        "outputId": "ef1ba075-9d31-4ec0-fb11-ba2450cbb95a"
      },
      "execution_count": 23,
      "outputs": [
        {
          "output_type": "execute_result",
          "data": {
            "text/plain": [
              "'temp-plot.html'"
            ],
            "application/vnd.google.colaboratory.intrinsic+json": {
              "type": "string"
            }
          },
          "metadata": {},
          "execution_count": 23
        }
      ]
    },
    {
      "cell_type": "markdown",
      "metadata": {
        "id": "23GLPfplsbjB"
      },
      "source": [
        "## USA Choropleth\n",
        "\n",
        "** Import the 2012_Election_Data csv file using pandas. **"
      ]
    },
    {
      "cell_type": "code",
      "execution_count": 47,
      "metadata": {
        "collapsed": true,
        "id": "mzzhBjB_sbjB"
      },
      "outputs": [],
      "source": [
        "usdf = pd.read_csv('2012_Election_Data')"
      ]
    },
    {
      "cell_type": "markdown",
      "metadata": {
        "id": "m-ukV7EvsbjB"
      },
      "source": [
        "** Check the head of the DataFrame. **"
      ]
    },
    {
      "cell_type": "code",
      "execution_count": 48,
      "metadata": {
        "colab": {
          "base_uri": "https://localhost:8080/",
          "height": 258
        },
        "id": "CV_ionL_sbjB",
        "outputId": "4f26c8f2-2ba5-4c02-ad15-0eaf24270c42"
      },
      "outputs": [
        {
          "output_type": "execute_result",
          "data": {
            "text/plain": [
              "   Year  ICPSR State Code  Alphanumeric State Code       State  \\\n",
              "0  2012                41                        1     Alabama   \n",
              "1  2012                81                        2      Alaska   \n",
              "2  2012                61                        3     Arizona   \n",
              "3  2012                42                        4    Arkansas   \n",
              "4  2012                71                        5  California   \n",
              "\n",
              "  VEP Total Ballots Counted VEP Highest Office VAP Highest Office  \\\n",
              "0                       NaN              58.6%              56.0%   \n",
              "1                     58.9%              58.7%              55.3%   \n",
              "2                     53.0%              52.6%              46.5%   \n",
              "3                     51.1%              50.7%              47.7%   \n",
              "4                     55.7%              55.1%              45.1%   \n",
              "\n",
              "  Total Ballots Counted Highest Office Voting-Eligible Population (VEP)  \\\n",
              "0                   NaN      2,074,338                        3,539,217   \n",
              "1               301,694        300,495                          511,792   \n",
              "2             2,323,579      2,306,559                        4,387,900   \n",
              "3             1,078,548      1,069,468                        2,109,847   \n",
              "4            13,202,158     13,038,547                       23,681,837   \n",
              "\n",
              "   Voting-Age Population (VAP) % Non-citizen   Prison Probation  Parole  \\\n",
              "0                    3707440.0          2.6%   32,232    57,993   8,616   \n",
              "1                     543763.0          3.8%    5,633     7,173   1,882   \n",
              "2                    4959270.0          9.9%   35,188    72,452   7,460   \n",
              "3                    2242740.0          3.5%   14,471    30,122  23,372   \n",
              "4                   28913129.0         17.4%  119,455         0  89,287   \n",
              "\n",
              "  Total Ineligible Felon State Abv  \n",
              "0                 71,584        AL  \n",
              "1                 11,317        AK  \n",
              "2                 81,048        AZ  \n",
              "3                 53,808        AR  \n",
              "4                208,742        CA  "
            ],
            "text/html": [
              "\n",
              "  <div id=\"df-11a52a99-eb02-41ec-93e2-62dd2b570ad3\" class=\"colab-df-container\">\n",
              "    <div>\n",
              "<style scoped>\n",
              "    .dataframe tbody tr th:only-of-type {\n",
              "        vertical-align: middle;\n",
              "    }\n",
              "\n",
              "    .dataframe tbody tr th {\n",
              "        vertical-align: top;\n",
              "    }\n",
              "\n",
              "    .dataframe thead th {\n",
              "        text-align: right;\n",
              "    }\n",
              "</style>\n",
              "<table border=\"1\" class=\"dataframe\">\n",
              "  <thead>\n",
              "    <tr style=\"text-align: right;\">\n",
              "      <th></th>\n",
              "      <th>Year</th>\n",
              "      <th>ICPSR State Code</th>\n",
              "      <th>Alphanumeric State Code</th>\n",
              "      <th>State</th>\n",
              "      <th>VEP Total Ballots Counted</th>\n",
              "      <th>VEP Highest Office</th>\n",
              "      <th>VAP Highest Office</th>\n",
              "      <th>Total Ballots Counted</th>\n",
              "      <th>Highest Office</th>\n",
              "      <th>Voting-Eligible Population (VEP)</th>\n",
              "      <th>Voting-Age Population (VAP)</th>\n",
              "      <th>% Non-citizen</th>\n",
              "      <th>Prison</th>\n",
              "      <th>Probation</th>\n",
              "      <th>Parole</th>\n",
              "      <th>Total Ineligible Felon</th>\n",
              "      <th>State Abv</th>\n",
              "    </tr>\n",
              "  </thead>\n",
              "  <tbody>\n",
              "    <tr>\n",
              "      <th>0</th>\n",
              "      <td>2012</td>\n",
              "      <td>41</td>\n",
              "      <td>1</td>\n",
              "      <td>Alabama</td>\n",
              "      <td>NaN</td>\n",
              "      <td>58.6%</td>\n",
              "      <td>56.0%</td>\n",
              "      <td>NaN</td>\n",
              "      <td>2,074,338</td>\n",
              "      <td>3,539,217</td>\n",
              "      <td>3707440.0</td>\n",
              "      <td>2.6%</td>\n",
              "      <td>32,232</td>\n",
              "      <td>57,993</td>\n",
              "      <td>8,616</td>\n",
              "      <td>71,584</td>\n",
              "      <td>AL</td>\n",
              "    </tr>\n",
              "    <tr>\n",
              "      <th>1</th>\n",
              "      <td>2012</td>\n",
              "      <td>81</td>\n",
              "      <td>2</td>\n",
              "      <td>Alaska</td>\n",
              "      <td>58.9%</td>\n",
              "      <td>58.7%</td>\n",
              "      <td>55.3%</td>\n",
              "      <td>301,694</td>\n",
              "      <td>300,495</td>\n",
              "      <td>511,792</td>\n",
              "      <td>543763.0</td>\n",
              "      <td>3.8%</td>\n",
              "      <td>5,633</td>\n",
              "      <td>7,173</td>\n",
              "      <td>1,882</td>\n",
              "      <td>11,317</td>\n",
              "      <td>AK</td>\n",
              "    </tr>\n",
              "    <tr>\n",
              "      <th>2</th>\n",
              "      <td>2012</td>\n",
              "      <td>61</td>\n",
              "      <td>3</td>\n",
              "      <td>Arizona</td>\n",
              "      <td>53.0%</td>\n",
              "      <td>52.6%</td>\n",
              "      <td>46.5%</td>\n",
              "      <td>2,323,579</td>\n",
              "      <td>2,306,559</td>\n",
              "      <td>4,387,900</td>\n",
              "      <td>4959270.0</td>\n",
              "      <td>9.9%</td>\n",
              "      <td>35,188</td>\n",
              "      <td>72,452</td>\n",
              "      <td>7,460</td>\n",
              "      <td>81,048</td>\n",
              "      <td>AZ</td>\n",
              "    </tr>\n",
              "    <tr>\n",
              "      <th>3</th>\n",
              "      <td>2012</td>\n",
              "      <td>42</td>\n",
              "      <td>4</td>\n",
              "      <td>Arkansas</td>\n",
              "      <td>51.1%</td>\n",
              "      <td>50.7%</td>\n",
              "      <td>47.7%</td>\n",
              "      <td>1,078,548</td>\n",
              "      <td>1,069,468</td>\n",
              "      <td>2,109,847</td>\n",
              "      <td>2242740.0</td>\n",
              "      <td>3.5%</td>\n",
              "      <td>14,471</td>\n",
              "      <td>30,122</td>\n",
              "      <td>23,372</td>\n",
              "      <td>53,808</td>\n",
              "      <td>AR</td>\n",
              "    </tr>\n",
              "    <tr>\n",
              "      <th>4</th>\n",
              "      <td>2012</td>\n",
              "      <td>71</td>\n",
              "      <td>5</td>\n",
              "      <td>California</td>\n",
              "      <td>55.7%</td>\n",
              "      <td>55.1%</td>\n",
              "      <td>45.1%</td>\n",
              "      <td>13,202,158</td>\n",
              "      <td>13,038,547</td>\n",
              "      <td>23,681,837</td>\n",
              "      <td>28913129.0</td>\n",
              "      <td>17.4%</td>\n",
              "      <td>119,455</td>\n",
              "      <td>0</td>\n",
              "      <td>89,287</td>\n",
              "      <td>208,742</td>\n",
              "      <td>CA</td>\n",
              "    </tr>\n",
              "  </tbody>\n",
              "</table>\n",
              "</div>\n",
              "    <div class=\"colab-df-buttons\">\n",
              "\n",
              "  <div class=\"colab-df-container\">\n",
              "    <button class=\"colab-df-convert\" onclick=\"convertToInteractive('df-11a52a99-eb02-41ec-93e2-62dd2b570ad3')\"\n",
              "            title=\"Convert this dataframe to an interactive table.\"\n",
              "            style=\"display:none;\">\n",
              "\n",
              "  <svg xmlns=\"http://www.w3.org/2000/svg\" height=\"24px\" viewBox=\"0 -960 960 960\">\n",
              "    <path d=\"M120-120v-720h720v720H120Zm60-500h600v-160H180v160Zm220 220h160v-160H400v160Zm0 220h160v-160H400v160ZM180-400h160v-160H180v160Zm440 0h160v-160H620v160ZM180-180h160v-160H180v160Zm440 0h160v-160H620v160Z\"/>\n",
              "  </svg>\n",
              "    </button>\n",
              "\n",
              "  <style>\n",
              "    .colab-df-container {\n",
              "      display:flex;\n",
              "      gap: 12px;\n",
              "    }\n",
              "\n",
              "    .colab-df-convert {\n",
              "      background-color: #E8F0FE;\n",
              "      border: none;\n",
              "      border-radius: 50%;\n",
              "      cursor: pointer;\n",
              "      display: none;\n",
              "      fill: #1967D2;\n",
              "      height: 32px;\n",
              "      padding: 0 0 0 0;\n",
              "      width: 32px;\n",
              "    }\n",
              "\n",
              "    .colab-df-convert:hover {\n",
              "      background-color: #E2EBFA;\n",
              "      box-shadow: 0px 1px 2px rgba(60, 64, 67, 0.3), 0px 1px 3px 1px rgba(60, 64, 67, 0.15);\n",
              "      fill: #174EA6;\n",
              "    }\n",
              "\n",
              "    .colab-df-buttons div {\n",
              "      margin-bottom: 4px;\n",
              "    }\n",
              "\n",
              "    [theme=dark] .colab-df-convert {\n",
              "      background-color: #3B4455;\n",
              "      fill: #D2E3FC;\n",
              "    }\n",
              "\n",
              "    [theme=dark] .colab-df-convert:hover {\n",
              "      background-color: #434B5C;\n",
              "      box-shadow: 0px 1px 3px 1px rgba(0, 0, 0, 0.15);\n",
              "      filter: drop-shadow(0px 1px 2px rgba(0, 0, 0, 0.3));\n",
              "      fill: #FFFFFF;\n",
              "    }\n",
              "  </style>\n",
              "\n",
              "    <script>\n",
              "      const buttonEl =\n",
              "        document.querySelector('#df-11a52a99-eb02-41ec-93e2-62dd2b570ad3 button.colab-df-convert');\n",
              "      buttonEl.style.display =\n",
              "        google.colab.kernel.accessAllowed ? 'block' : 'none';\n",
              "\n",
              "      async function convertToInteractive(key) {\n",
              "        const element = document.querySelector('#df-11a52a99-eb02-41ec-93e2-62dd2b570ad3');\n",
              "        const dataTable =\n",
              "          await google.colab.kernel.invokeFunction('convertToInteractive',\n",
              "                                                    [key], {});\n",
              "        if (!dataTable) return;\n",
              "\n",
              "        const docLinkHtml = 'Like what you see? Visit the ' +\n",
              "          '<a target=\"_blank\" href=https://colab.research.google.com/notebooks/data_table.ipynb>data table notebook</a>'\n",
              "          + ' to learn more about interactive tables.';\n",
              "        element.innerHTML = '';\n",
              "        dataTable['output_type'] = 'display_data';\n",
              "        await google.colab.output.renderOutput(dataTable, element);\n",
              "        const docLink = document.createElement('div');\n",
              "        docLink.innerHTML = docLinkHtml;\n",
              "        element.appendChild(docLink);\n",
              "      }\n",
              "    </script>\n",
              "  </div>\n",
              "\n",
              "\n",
              "<div id=\"df-ba4e4e7f-590a-463a-b1ad-18559967fb97\">\n",
              "  <button class=\"colab-df-quickchart\" onclick=\"quickchart('df-ba4e4e7f-590a-463a-b1ad-18559967fb97')\"\n",
              "            title=\"Suggest charts\"\n",
              "            style=\"display:none;\">\n",
              "\n",
              "<svg xmlns=\"http://www.w3.org/2000/svg\" height=\"24px\"viewBox=\"0 0 24 24\"\n",
              "     width=\"24px\">\n",
              "    <g>\n",
              "        <path d=\"M19 3H5c-1.1 0-2 .9-2 2v14c0 1.1.9 2 2 2h14c1.1 0 2-.9 2-2V5c0-1.1-.9-2-2-2zM9 17H7v-7h2v7zm4 0h-2V7h2v10zm4 0h-2v-4h2v4z\"/>\n",
              "    </g>\n",
              "</svg>\n",
              "  </button>\n",
              "\n",
              "<style>\n",
              "  .colab-df-quickchart {\n",
              "      --bg-color: #E8F0FE;\n",
              "      --fill-color: #1967D2;\n",
              "      --hover-bg-color: #E2EBFA;\n",
              "      --hover-fill-color: #174EA6;\n",
              "      --disabled-fill-color: #AAA;\n",
              "      --disabled-bg-color: #DDD;\n",
              "  }\n",
              "\n",
              "  [theme=dark] .colab-df-quickchart {\n",
              "      --bg-color: #3B4455;\n",
              "      --fill-color: #D2E3FC;\n",
              "      --hover-bg-color: #434B5C;\n",
              "      --hover-fill-color: #FFFFFF;\n",
              "      --disabled-bg-color: #3B4455;\n",
              "      --disabled-fill-color: #666;\n",
              "  }\n",
              "\n",
              "  .colab-df-quickchart {\n",
              "    background-color: var(--bg-color);\n",
              "    border: none;\n",
              "    border-radius: 50%;\n",
              "    cursor: pointer;\n",
              "    display: none;\n",
              "    fill: var(--fill-color);\n",
              "    height: 32px;\n",
              "    padding: 0;\n",
              "    width: 32px;\n",
              "  }\n",
              "\n",
              "  .colab-df-quickchart:hover {\n",
              "    background-color: var(--hover-bg-color);\n",
              "    box-shadow: 0 1px 2px rgba(60, 64, 67, 0.3), 0 1px 3px 1px rgba(60, 64, 67, 0.15);\n",
              "    fill: var(--button-hover-fill-color);\n",
              "  }\n",
              "\n",
              "  .colab-df-quickchart-complete:disabled,\n",
              "  .colab-df-quickchart-complete:disabled:hover {\n",
              "    background-color: var(--disabled-bg-color);\n",
              "    fill: var(--disabled-fill-color);\n",
              "    box-shadow: none;\n",
              "  }\n",
              "\n",
              "  .colab-df-spinner {\n",
              "    border: 2px solid var(--fill-color);\n",
              "    border-color: transparent;\n",
              "    border-bottom-color: var(--fill-color);\n",
              "    animation:\n",
              "      spin 1s steps(1) infinite;\n",
              "  }\n",
              "\n",
              "  @keyframes spin {\n",
              "    0% {\n",
              "      border-color: transparent;\n",
              "      border-bottom-color: var(--fill-color);\n",
              "      border-left-color: var(--fill-color);\n",
              "    }\n",
              "    20% {\n",
              "      border-color: transparent;\n",
              "      border-left-color: var(--fill-color);\n",
              "      border-top-color: var(--fill-color);\n",
              "    }\n",
              "    30% {\n",
              "      border-color: transparent;\n",
              "      border-left-color: var(--fill-color);\n",
              "      border-top-color: var(--fill-color);\n",
              "      border-right-color: var(--fill-color);\n",
              "    }\n",
              "    40% {\n",
              "      border-color: transparent;\n",
              "      border-right-color: var(--fill-color);\n",
              "      border-top-color: var(--fill-color);\n",
              "    }\n",
              "    60% {\n",
              "      border-color: transparent;\n",
              "      border-right-color: var(--fill-color);\n",
              "    }\n",
              "    80% {\n",
              "      border-color: transparent;\n",
              "      border-right-color: var(--fill-color);\n",
              "      border-bottom-color: var(--fill-color);\n",
              "    }\n",
              "    90% {\n",
              "      border-color: transparent;\n",
              "      border-bottom-color: var(--fill-color);\n",
              "    }\n",
              "  }\n",
              "</style>\n",
              "\n",
              "  <script>\n",
              "    async function quickchart(key) {\n",
              "      const quickchartButtonEl =\n",
              "        document.querySelector('#' + key + ' button');\n",
              "      quickchartButtonEl.disabled = true;  // To prevent multiple clicks.\n",
              "      quickchartButtonEl.classList.add('colab-df-spinner');\n",
              "      try {\n",
              "        const charts = await google.colab.kernel.invokeFunction(\n",
              "            'suggestCharts', [key], {});\n",
              "      } catch (error) {\n",
              "        console.error('Error during call to suggestCharts:', error);\n",
              "      }\n",
              "      quickchartButtonEl.classList.remove('colab-df-spinner');\n",
              "      quickchartButtonEl.classList.add('colab-df-quickchart-complete');\n",
              "    }\n",
              "    (() => {\n",
              "      let quickchartButtonEl =\n",
              "        document.querySelector('#df-ba4e4e7f-590a-463a-b1ad-18559967fb97 button');\n",
              "      quickchartButtonEl.style.display =\n",
              "        google.colab.kernel.accessAllowed ? 'block' : 'none';\n",
              "    })();\n",
              "  </script>\n",
              "</div>\n",
              "    </div>\n",
              "  </div>\n"
            ]
          },
          "metadata": {},
          "execution_count": 48
        }
      ],
      "source": [
        "usdf.head()"
      ]
    },
    {
      "cell_type": "code",
      "source": [
        "usdf.shape"
      ],
      "metadata": {
        "colab": {
          "base_uri": "https://localhost:8080/"
        },
        "id": "3EMrNgZnxdFP",
        "outputId": "b5319330-4f78-4ad3-8fce-f04d475f0933"
      },
      "execution_count": 50,
      "outputs": [
        {
          "output_type": "execute_result",
          "data": {
            "text/plain": [
              "(51, 17)"
            ]
          },
          "metadata": {},
          "execution_count": 50
        }
      ]
    },
    {
      "cell_type": "code",
      "source": [
        "# usdf=usdf['Voting-Eligible Population (VEP)'].astype(int)\n",
        "# Assuming 'Voting-Eligible Population (VEP)' is a column in the 'usdf' DataFrame\n",
        "usdf['Voting-Eligible Population (VEP)'] = usdf['Voting-Eligible Population (VEP)'].str.replace(',', '').astype(int)\n"
      ],
      "metadata": {
        "id": "p_1lZNDq2661"
      },
      "execution_count": 49,
      "outputs": []
    },
    {
      "cell_type": "code",
      "source": [
        "usdf['% Non-citizen']=usdf['% Non-citizen'].str.replace('%', '').astype(float)"
      ],
      "metadata": {
        "id": "FsdNipNP3EUi"
      },
      "execution_count": 51,
      "outputs": []
    },
    {
      "cell_type": "code",
      "source": [
        "usdf.info()"
      ],
      "metadata": {
        "colab": {
          "base_uri": "https://localhost:8080/"
        },
        "id": "m_ZPPMWJxdPc",
        "outputId": "5a1e0d95-1192-45cd-e394-01bcfb9ad396"
      },
      "execution_count": 52,
      "outputs": [
        {
          "output_type": "stream",
          "name": "stdout",
          "text": [
            "<class 'pandas.core.frame.DataFrame'>\n",
            "RangeIndex: 51 entries, 0 to 50\n",
            "Data columns (total 17 columns):\n",
            " #   Column                            Non-Null Count  Dtype  \n",
            "---  ------                            --------------  -----  \n",
            " 0   Year                              51 non-null     int64  \n",
            " 1   ICPSR State Code                  51 non-null     int64  \n",
            " 2   Alphanumeric State Code           51 non-null     int64  \n",
            " 3   State                             51 non-null     object \n",
            " 4   VEP Total Ballots Counted         41 non-null     object \n",
            " 5   VEP Highest Office                51 non-null     object \n",
            " 6   VAP Highest Office                51 non-null     object \n",
            " 7   Total Ballots Counted             41 non-null     object \n",
            " 8   Highest Office                    51 non-null     object \n",
            " 9   Voting-Eligible Population (VEP)  51 non-null     int64  \n",
            " 10  Voting-Age Population (VAP)       51 non-null     float64\n",
            " 11  % Non-citizen                     51 non-null     float64\n",
            " 12  Prison                            51 non-null     object \n",
            " 13  Probation                         51 non-null     object \n",
            " 14  Parole                            51 non-null     object \n",
            " 15  Total Ineligible Felon            51 non-null     object \n",
            " 16  State Abv                         51 non-null     object \n",
            "dtypes: float64(2), int64(4), object(11)\n",
            "memory usage: 6.9+ KB\n"
          ]
        }
      ]
    },
    {
      "cell_type": "markdown",
      "metadata": {
        "id": "yDloR8VNsbjB"
      },
      "source": [
        "** Now create a plot that displays the Voting-Age Population (VAP) per state. If you later want to play around with other columns, make sure you consider their data type. VAP has already been transformed to a float for you. **"
      ]
    },
    {
      "cell_type": "code",
      "source": [
        "data=dict(type='choropleth',\n",
        "          locations=usdf['State Abv'],\n",
        "          locationmode = 'USA-states',\n",
        "          z=usdf['Voting-Age Population (VAP)'],\n",
        "          text=usdf['State'],\n",
        "          colorscale='Viridis',\n",
        "          colorbar={'title':'Voting-Age Population'})"
      ],
      "metadata": {
        "id": "mtZhgIEtxGcG"
      },
      "execution_count": 35,
      "outputs": []
    },
    {
      "cell_type": "code",
      "source": [
        "layout=dict(title='2012_Election_Data',\n",
        "            geo=dict(scope='usa'))"
      ],
      "metadata": {
        "id": "Qj9MuxLmypW1"
      },
      "execution_count": 36,
      "outputs": []
    },
    {
      "cell_type": "code",
      "execution_count": 37,
      "metadata": {
        "colab": {
          "base_uri": "https://localhost:8080/",
          "height": 36
        },
        "id": "3W9BJt1WsbjC",
        "outputId": "66541cd7-2406-4a4e-9913-cc3a7360ac68"
      },
      "outputs": [
        {
          "output_type": "execute_result",
          "data": {
            "text/plain": [
              "'temp-plot.html'"
            ],
            "application/vnd.google.colaboratory.intrinsic+json": {
              "type": "string"
            }
          },
          "metadata": {},
          "execution_count": 37
        }
      ],
      "source": [
        "choromap = go.Figure(data = [data],layout = layout)\n",
        "plot(choromap,validate=False)"
      ]
    },
    {
      "cell_type": "markdown",
      "source": [
        "the vizualization is stored in an html format"
      ],
      "metadata": {
        "id": "0gumjDj21O4Q"
      }
    }
  ],
  "metadata": {
    "kernelspec": {
      "display_name": "Python 3",
      "language": "python",
      "name": "python3"
    },
    "language_info": {
      "codemirror_mode": {
        "name": "ipython",
        "version": 3
      },
      "file_extension": ".py",
      "mimetype": "text/x-python",
      "name": "python",
      "nbconvert_exporter": "python",
      "pygments_lexer": "ipython3",
      "version": "3.5.1"
    },
    "colab": {
      "provenance": []
    }
  },
  "nbformat": 4,
  "nbformat_minor": 0
}