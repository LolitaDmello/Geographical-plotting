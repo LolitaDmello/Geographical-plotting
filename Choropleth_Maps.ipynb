{
  "cells": [
    {
      "cell_type": "markdown",
      "metadata": {
        "id": "x3Ent4omdDn3"
      },
      "source": [
        "**Choropleth Maps**"
      ]
    },
    {
      "cell_type": "markdown",
      "metadata": {
        "id": "gUTQS22WdDn3"
      },
      "source": [
        "#import neccessary  libraries"
      ]
    },
    {
      "cell_type": "markdown",
      "metadata": {
        "id": "TZ-HQ3z0dDn4"
      },
      "source": [
        "Get imports and set everything up to be working offline."
      ]
    },
    {
      "cell_type": "code",
      "source": [
        "!pip install plotly"
      ],
      "metadata": {
        "colab": {
          "base_uri": "https://localhost:8080/"
        },
        "id": "6pfl2gLslDfR",
        "outputId": "c7ed7acf-fe43-4270-bf2b-af5f85da7c75"
      },
      "execution_count": 1,
      "outputs": [
        {
          "output_type": "stream",
          "name": "stdout",
          "text": [
            "Requirement already satisfied: plotly in /usr/local/lib/python3.10/dist-packages (5.15.0)\n",
            "Requirement already satisfied: tenacity>=6.2.0 in /usr/local/lib/python3.10/dist-packages (from plotly) (8.2.3)\n",
            "Requirement already satisfied: packaging in /usr/local/lib/python3.10/dist-packages (from plotly) (23.2)\n"
          ]
        }
      ]
    },
    {
      "cell_type": "code",
      "source": [
        "!pip install chart-studio"
      ],
      "metadata": {
        "colab": {
          "base_uri": "https://localhost:8080/"
        },
        "id": "efZiHFKlodVg",
        "outputId": "ef54db70-4b59-4917-fd3c-9aef519b34b2"
      },
      "execution_count": 2,
      "outputs": [
        {
          "output_type": "stream",
          "name": "stdout",
          "text": [
            "Collecting chart-studio\n",
            "  Downloading chart_studio-1.1.0-py3-none-any.whl (64 kB)\n",
            "\u001b[?25l     \u001b[90m━━━━━━━━━━━━━━━━━━━━━━━━━━━━━━━━━━━━━━━━\u001b[0m \u001b[32m0.0/64.4 kB\u001b[0m \u001b[31m?\u001b[0m eta \u001b[36m-:--:--\u001b[0m\r\u001b[2K     \u001b[90m━━━━━━━━━━━━━━━━━━━━━━━━━━━━━━━━━━━━━━━━\u001b[0m \u001b[32m64.4/64.4 kB\u001b[0m \u001b[31m2.8 MB/s\u001b[0m eta \u001b[36m0:00:00\u001b[0m\n",
            "\u001b[?25hRequirement already satisfied: plotly in /usr/local/lib/python3.10/dist-packages (from chart-studio) (5.15.0)\n",
            "Requirement already satisfied: requests in /usr/local/lib/python3.10/dist-packages (from chart-studio) (2.31.0)\n",
            "Collecting retrying>=1.3.3 (from chart-studio)\n",
            "  Downloading retrying-1.3.4-py3-none-any.whl (11 kB)\n",
            "Requirement already satisfied: six in /usr/local/lib/python3.10/dist-packages (from chart-studio) (1.16.0)\n",
            "Requirement already satisfied: tenacity>=6.2.0 in /usr/local/lib/python3.10/dist-packages (from plotly->chart-studio) (8.2.3)\n",
            "Requirement already satisfied: packaging in /usr/local/lib/python3.10/dist-packages (from plotly->chart-studio) (23.2)\n",
            "Requirement already satisfied: charset-normalizer<4,>=2 in /usr/local/lib/python3.10/dist-packages (from requests->chart-studio) (3.3.2)\n",
            "Requirement already satisfied: idna<4,>=2.5 in /usr/local/lib/python3.10/dist-packages (from requests->chart-studio) (3.4)\n",
            "Requirement already satisfied: urllib3<3,>=1.21.1 in /usr/local/lib/python3.10/dist-packages (from requests->chart-studio) (2.0.7)\n",
            "Requirement already satisfied: certifi>=2017.4.17 in /usr/local/lib/python3.10/dist-packages (from requests->chart-studio) (2023.7.22)\n",
            "Installing collected packages: retrying, chart-studio\n",
            "Successfully installed chart-studio-1.1.0 retrying-1.3.4\n"
          ]
        }
      ]
    },
    {
      "cell_type": "code",
      "source": [
        "import chart_studio.plotly as py\n",
        "import plotly.graph_objs as go\n",
        "from plotly.offline import download_plotlyjs, init_notebook_mode, plot, iplot\n",
        "import pandas as pd"
      ],
      "metadata": {
        "id": "0UUKPU9ooOQS"
      },
      "execution_count": 5,
      "outputs": []
    },
    {
      "cell_type": "markdown",
      "metadata": {
        "id": "mUeHEz4kdDn6"
      },
      "source": [
        "Now set up everything so that the figures show up in the notebook:"
      ]
    },
    {
      "cell_type": "code",
      "execution_count": 4,
      "metadata": {
        "colab": {
          "base_uri": "https://localhost:8080/",
          "height": 17
        },
        "id": "W9E1o84qdDn7",
        "outputId": "ce46f383-9d65-4d52-c275-67c3fe041a5b"
      },
      "outputs": [
        {
          "output_type": "display_data",
          "data": {
            "text/html": [
              "        <script type=\"text/javascript\">\n",
              "        window.PlotlyConfig = {MathJaxConfig: 'local'};\n",
              "        if (window.MathJax && window.MathJax.Hub && window.MathJax.Hub.Config) {window.MathJax.Hub.Config({SVG: {font: \"STIX-Web\"}});}\n",
              "        if (typeof require !== 'undefined') {\n",
              "        require.undef(\"plotly\");\n",
              "        requirejs.config({\n",
              "            paths: {\n",
              "                'plotly': ['https://cdn.plot.ly/plotly-2.24.1.min']\n",
              "            }\n",
              "        });\n",
              "        require(['plotly'], function(Plotly) {\n",
              "            window._Plotly = Plotly;\n",
              "        });\n",
              "        }\n",
              "        </script>\n",
              "        "
            ]
          },
          "metadata": {}
        }
      ],
      "source": [
        "init_notebook_mode(connected=True)"
      ]
    },
    {
      "cell_type": "markdown",
      "metadata": {
        "id": "LwCyDM55dDn9"
      },
      "source": [
        "More info on other options for Offline Plotly usage can be found [here](https://plot.ly/python/offline/)."
      ]
    },
    {
      "cell_type": "markdown",
      "metadata": {
        "id": "hRwHIpC9dDn-"
      },
      "source": [
        "## Choropleth US Maps\n",
        "\n",
        "Plotly's mapping can be a bit hard to get used to at first, remember to reference the cheat sheet in the data visualization folder, or [find it online here](https://images.plot.ly/plotly-documentation/images/python_cheat_sheet.pdf)."
      ]
    },
    {
      "cell_type": "markdown",
      "source": [
        "#Geographic-plotting-Example"
      ],
      "metadata": {
        "id": "PeXPuWxCmH3M"
      }
    },
    {
      "cell_type": "markdown",
      "metadata": {
        "id": "iV9MVKJQdDn_"
      },
      "source": [
        "Now we need to begin to build our data dictionary. Easiest way to do this is to use the **dict()** function of the general form:\n",
        "\n",
        "* type = 'choropleth',\n",
        "* locations = list of states\n",
        "* locationmode = 'USA-states'\n",
        "* colorscale=\n",
        "\n",
        "Either a predefined string:\n",
        "\n",
        "    'pairs' | 'Greys' | 'Greens' | 'Bluered' | 'Hot' | 'Picnic' | 'Portland' | 'Jet' | 'RdBu' | 'Blackbody' | 'Earth' | 'Electric' | 'YIOrRd' | 'YIGnBu'\n",
        "\n",
        "or create a [custom colorscale](https://plot.ly/python/heatmap-and-contour-colorscales/)\n",
        "\n",
        "* text= list or array of text to display per point\n",
        "* z= array of values on z axis (color of state)\n",
        "* colorbar = {'title':'Colorbar Title'})\n",
        "\n",
        "Here is a simple example:"
      ]
    },
    {
      "cell_type": "code",
      "execution_count": 10,
      "metadata": {
        "id": "P7jfMAlldDoA"
      },
      "outputs": [],
      "source": [
        "data = dict(type = 'choropleth',\n",
        "            locations = ['AZ','CA','NY'],\n",
        "            locationmode = 'USA-states',\n",
        "            colorscale= 'Portland',\n",
        "            text= ['text1','text2','text3'],\n",
        "            z=[1.0,2.0,3.0],\n",
        "            colorbar = {'title':'Colorbar Title'})"
      ]
    },
    {
      "cell_type": "markdown",
      "metadata": {
        "id": "f3Fw6gaIdDoA"
      },
      "source": [
        "Then we create the layout nested dictionary:"
      ]
    },
    {
      "cell_type": "code",
      "execution_count": 11,
      "metadata": {
        "collapsed": true,
        "id": "27hS91x6dDoB"
      },
      "outputs": [],
      "source": [
        "layout = dict(geo = {'scope':'usa'})"
      ]
    },
    {
      "cell_type": "markdown",
      "metadata": {
        "id": "Sly50dmwdDoB"
      },
      "source": [
        "Then we use:\n",
        "\n",
        "    go.Figure(data = [data],layout = layout)\n",
        "    \n",
        "to set up the object that finally gets passed into iplot()"
      ]
    },
    {
      "cell_type": "code",
      "execution_count": 12,
      "metadata": {
        "id": "mTjANdSHdDoB"
      },
      "outputs": [],
      "source": [
        "choromap = go.Figure(data = [data],layout = layout)"
      ]
    },
    {
      "cell_type": "code",
      "execution_count": 14,
      "metadata": {
        "colab": {
          "base_uri": "https://localhost:8080/",
          "height": 36
        },
        "id": "9PLwOSDCdDoC",
        "outputId": "d07a6adb-8009-46b0-c833-debb1151c9e8"
      },
      "outputs": [
        {
          "output_type": "execute_result",
          "data": {
            "text/plain": [
              "'temp-plot.html'"
            ],
            "application/vnd.google.colaboratory.intrinsic+json": {
              "type": "string"
            }
          },
          "metadata": {},
          "execution_count": 14
        }
      ],
      "source": [
        "plot(choromap)"
      ]
    },
    {
      "cell_type": "markdown",
      "source": [
        "The above result can be viewed in Example-template HTML file"
      ],
      "metadata": {
        "id": "UU6uljzElwm3"
      }
    },
    {
      "cell_type": "markdown",
      "metadata": {
        "id": "qBBKf1Z7dDoC"
      },
      "source": [
        "#Real Data US Map Choropleth\n",
        "\n",
        "Now let's show an example with some real data as well as some other options we can add to the dictionaries in data and layout."
      ]
    },
    {
      "cell_type": "code",
      "execution_count": 6,
      "metadata": {
        "colab": {
          "base_uri": "https://localhost:8080/",
          "height": 486
        },
        "id": "0lqwmO-hdDoC",
        "outputId": "50c90ef7-0ecb-4e67-bb99-a0aff43e075b"
      },
      "outputs": [
        {
          "output_type": "execute_result",
          "data": {
            "text/plain": [
              "  code        state category  total exports   beef  pork  poultry   dairy  \\\n",
              "0   AL      Alabama    state        1390.63   34.4  10.6    481.0    4.06   \n",
              "1   AK       Alaska    state          13.31    0.2   0.1      0.0    0.19   \n",
              "2   AZ      Arizona    state        1463.17   71.3  17.9      0.0  105.48   \n",
              "3   AR     Arkansas    state        3586.02   53.2  29.4    562.9    3.53   \n",
              "4   CA   California    state       16472.88  228.7  11.1    225.4  929.95   \n",
              "\n",
              "   fruits fresh  fruits proc  total fruits  veggies fresh  veggies proc  \\\n",
              "0           8.0         17.1         25.11            5.5           8.9   \n",
              "1           0.0          0.0          0.00            0.6           1.0   \n",
              "2          19.3         41.0         60.27          147.5         239.4   \n",
              "3           2.2          4.7          6.88            4.4           7.1   \n",
              "4        2791.8       5944.6       8736.40          803.2        1303.5   \n",
              "\n",
              "   total veggies  corn  wheat   cotton  \\\n",
              "0          14.33  34.9   70.0   317.61   \n",
              "1           1.56   0.0    0.0     0.00   \n",
              "2         386.91   7.3   48.7   423.95   \n",
              "3          11.45  69.5  114.5   665.44   \n",
              "4        2106.79  34.6  249.3  1064.95   \n",
              "\n",
              "                                                text  \n",
              "0  Alabama<br>Beef 34.4 Dairy 4.06<br>Fruits 25.1...  \n",
              "1  Alaska<br>Beef 0.2 Dairy 0.19<br>Fruits 0.0 Ve...  \n",
              "2  Arizona<br>Beef 71.3 Dairy 105.48<br>Fruits 60...  \n",
              "3  Arkansas<br>Beef 53.2 Dairy 3.53<br>Fruits 6.8...  \n",
              "4   California<br>Beef 228.7 Dairy 929.95<br>Frui...  "
            ],
            "text/html": [
              "\n",
              "  <div id=\"df-80257288-b14c-40c1-9876-c4e42682c14a\" class=\"colab-df-container\">\n",
              "    <div>\n",
              "<style scoped>\n",
              "    .dataframe tbody tr th:only-of-type {\n",
              "        vertical-align: middle;\n",
              "    }\n",
              "\n",
              "    .dataframe tbody tr th {\n",
              "        vertical-align: top;\n",
              "    }\n",
              "\n",
              "    .dataframe thead th {\n",
              "        text-align: right;\n",
              "    }\n",
              "</style>\n",
              "<table border=\"1\" class=\"dataframe\">\n",
              "  <thead>\n",
              "    <tr style=\"text-align: right;\">\n",
              "      <th></th>\n",
              "      <th>code</th>\n",
              "      <th>state</th>\n",
              "      <th>category</th>\n",
              "      <th>total exports</th>\n",
              "      <th>beef</th>\n",
              "      <th>pork</th>\n",
              "      <th>poultry</th>\n",
              "      <th>dairy</th>\n",
              "      <th>fruits fresh</th>\n",
              "      <th>fruits proc</th>\n",
              "      <th>total fruits</th>\n",
              "      <th>veggies fresh</th>\n",
              "      <th>veggies proc</th>\n",
              "      <th>total veggies</th>\n",
              "      <th>corn</th>\n",
              "      <th>wheat</th>\n",
              "      <th>cotton</th>\n",
              "      <th>text</th>\n",
              "    </tr>\n",
              "  </thead>\n",
              "  <tbody>\n",
              "    <tr>\n",
              "      <th>0</th>\n",
              "      <td>AL</td>\n",
              "      <td>Alabama</td>\n",
              "      <td>state</td>\n",
              "      <td>1390.63</td>\n",
              "      <td>34.4</td>\n",
              "      <td>10.6</td>\n",
              "      <td>481.0</td>\n",
              "      <td>4.06</td>\n",
              "      <td>8.0</td>\n",
              "      <td>17.1</td>\n",
              "      <td>25.11</td>\n",
              "      <td>5.5</td>\n",
              "      <td>8.9</td>\n",
              "      <td>14.33</td>\n",
              "      <td>34.9</td>\n",
              "      <td>70.0</td>\n",
              "      <td>317.61</td>\n",
              "      <td>Alabama&lt;br&gt;Beef 34.4 Dairy 4.06&lt;br&gt;Fruits 25.1...</td>\n",
              "    </tr>\n",
              "    <tr>\n",
              "      <th>1</th>\n",
              "      <td>AK</td>\n",
              "      <td>Alaska</td>\n",
              "      <td>state</td>\n",
              "      <td>13.31</td>\n",
              "      <td>0.2</td>\n",
              "      <td>0.1</td>\n",
              "      <td>0.0</td>\n",
              "      <td>0.19</td>\n",
              "      <td>0.0</td>\n",
              "      <td>0.0</td>\n",
              "      <td>0.00</td>\n",
              "      <td>0.6</td>\n",
              "      <td>1.0</td>\n",
              "      <td>1.56</td>\n",
              "      <td>0.0</td>\n",
              "      <td>0.0</td>\n",
              "      <td>0.00</td>\n",
              "      <td>Alaska&lt;br&gt;Beef 0.2 Dairy 0.19&lt;br&gt;Fruits 0.0 Ve...</td>\n",
              "    </tr>\n",
              "    <tr>\n",
              "      <th>2</th>\n",
              "      <td>AZ</td>\n",
              "      <td>Arizona</td>\n",
              "      <td>state</td>\n",
              "      <td>1463.17</td>\n",
              "      <td>71.3</td>\n",
              "      <td>17.9</td>\n",
              "      <td>0.0</td>\n",
              "      <td>105.48</td>\n",
              "      <td>19.3</td>\n",
              "      <td>41.0</td>\n",
              "      <td>60.27</td>\n",
              "      <td>147.5</td>\n",
              "      <td>239.4</td>\n",
              "      <td>386.91</td>\n",
              "      <td>7.3</td>\n",
              "      <td>48.7</td>\n",
              "      <td>423.95</td>\n",
              "      <td>Arizona&lt;br&gt;Beef 71.3 Dairy 105.48&lt;br&gt;Fruits 60...</td>\n",
              "    </tr>\n",
              "    <tr>\n",
              "      <th>3</th>\n",
              "      <td>AR</td>\n",
              "      <td>Arkansas</td>\n",
              "      <td>state</td>\n",
              "      <td>3586.02</td>\n",
              "      <td>53.2</td>\n",
              "      <td>29.4</td>\n",
              "      <td>562.9</td>\n",
              "      <td>3.53</td>\n",
              "      <td>2.2</td>\n",
              "      <td>4.7</td>\n",
              "      <td>6.88</td>\n",
              "      <td>4.4</td>\n",
              "      <td>7.1</td>\n",
              "      <td>11.45</td>\n",
              "      <td>69.5</td>\n",
              "      <td>114.5</td>\n",
              "      <td>665.44</td>\n",
              "      <td>Arkansas&lt;br&gt;Beef 53.2 Dairy 3.53&lt;br&gt;Fruits 6.8...</td>\n",
              "    </tr>\n",
              "    <tr>\n",
              "      <th>4</th>\n",
              "      <td>CA</td>\n",
              "      <td>California</td>\n",
              "      <td>state</td>\n",
              "      <td>16472.88</td>\n",
              "      <td>228.7</td>\n",
              "      <td>11.1</td>\n",
              "      <td>225.4</td>\n",
              "      <td>929.95</td>\n",
              "      <td>2791.8</td>\n",
              "      <td>5944.6</td>\n",
              "      <td>8736.40</td>\n",
              "      <td>803.2</td>\n",
              "      <td>1303.5</td>\n",
              "      <td>2106.79</td>\n",
              "      <td>34.6</td>\n",
              "      <td>249.3</td>\n",
              "      <td>1064.95</td>\n",
              "      <td>California&lt;br&gt;Beef 228.7 Dairy 929.95&lt;br&gt;Frui...</td>\n",
              "    </tr>\n",
              "  </tbody>\n",
              "</table>\n",
              "</div>\n",
              "    <div class=\"colab-df-buttons\">\n",
              "\n",
              "  <div class=\"colab-df-container\">\n",
              "    <button class=\"colab-df-convert\" onclick=\"convertToInteractive('df-80257288-b14c-40c1-9876-c4e42682c14a')\"\n",
              "            title=\"Convert this dataframe to an interactive table.\"\n",
              "            style=\"display:none;\">\n",
              "\n",
              "  <svg xmlns=\"http://www.w3.org/2000/svg\" height=\"24px\" viewBox=\"0 -960 960 960\">\n",
              "    <path d=\"M120-120v-720h720v720H120Zm60-500h600v-160H180v160Zm220 220h160v-160H400v160Zm0 220h160v-160H400v160ZM180-400h160v-160H180v160Zm440 0h160v-160H620v160ZM180-180h160v-160H180v160Zm440 0h160v-160H620v160Z\"/>\n",
              "  </svg>\n",
              "    </button>\n",
              "\n",
              "  <style>\n",
              "    .colab-df-container {\n",
              "      display:flex;\n",
              "      gap: 12px;\n",
              "    }\n",
              "\n",
              "    .colab-df-convert {\n",
              "      background-color: #E8F0FE;\n",
              "      border: none;\n",
              "      border-radius: 50%;\n",
              "      cursor: pointer;\n",
              "      display: none;\n",
              "      fill: #1967D2;\n",
              "      height: 32px;\n",
              "      padding: 0 0 0 0;\n",
              "      width: 32px;\n",
              "    }\n",
              "\n",
              "    .colab-df-convert:hover {\n",
              "      background-color: #E2EBFA;\n",
              "      box-shadow: 0px 1px 2px rgba(60, 64, 67, 0.3), 0px 1px 3px 1px rgba(60, 64, 67, 0.15);\n",
              "      fill: #174EA6;\n",
              "    }\n",
              "\n",
              "    .colab-df-buttons div {\n",
              "      margin-bottom: 4px;\n",
              "    }\n",
              "\n",
              "    [theme=dark] .colab-df-convert {\n",
              "      background-color: #3B4455;\n",
              "      fill: #D2E3FC;\n",
              "    }\n",
              "\n",
              "    [theme=dark] .colab-df-convert:hover {\n",
              "      background-color: #434B5C;\n",
              "      box-shadow: 0px 1px 3px 1px rgba(0, 0, 0, 0.15);\n",
              "      filter: drop-shadow(0px 1px 2px rgba(0, 0, 0, 0.3));\n",
              "      fill: #FFFFFF;\n",
              "    }\n",
              "  </style>\n",
              "\n",
              "    <script>\n",
              "      const buttonEl =\n",
              "        document.querySelector('#df-80257288-b14c-40c1-9876-c4e42682c14a button.colab-df-convert');\n",
              "      buttonEl.style.display =\n",
              "        google.colab.kernel.accessAllowed ? 'block' : 'none';\n",
              "\n",
              "      async function convertToInteractive(key) {\n",
              "        const element = document.querySelector('#df-80257288-b14c-40c1-9876-c4e42682c14a');\n",
              "        const dataTable =\n",
              "          await google.colab.kernel.invokeFunction('convertToInteractive',\n",
              "                                                    [key], {});\n",
              "        if (!dataTable) return;\n",
              "\n",
              "        const docLinkHtml = 'Like what you see? Visit the ' +\n",
              "          '<a target=\"_blank\" href=https://colab.research.google.com/notebooks/data_table.ipynb>data table notebook</a>'\n",
              "          + ' to learn more about interactive tables.';\n",
              "        element.innerHTML = '';\n",
              "        dataTable['output_type'] = 'display_data';\n",
              "        await google.colab.output.renderOutput(dataTable, element);\n",
              "        const docLink = document.createElement('div');\n",
              "        docLink.innerHTML = docLinkHtml;\n",
              "        element.appendChild(docLink);\n",
              "      }\n",
              "    </script>\n",
              "  </div>\n",
              "\n",
              "\n",
              "<div id=\"df-bbcaa375-21c7-4af5-b914-7c6ef4aaf611\">\n",
              "  <button class=\"colab-df-quickchart\" onclick=\"quickchart('df-bbcaa375-21c7-4af5-b914-7c6ef4aaf611')\"\n",
              "            title=\"Suggest charts\"\n",
              "            style=\"display:none;\">\n",
              "\n",
              "<svg xmlns=\"http://www.w3.org/2000/svg\" height=\"24px\"viewBox=\"0 0 24 24\"\n",
              "     width=\"24px\">\n",
              "    <g>\n",
              "        <path d=\"M19 3H5c-1.1 0-2 .9-2 2v14c0 1.1.9 2 2 2h14c1.1 0 2-.9 2-2V5c0-1.1-.9-2-2-2zM9 17H7v-7h2v7zm4 0h-2V7h2v10zm4 0h-2v-4h2v4z\"/>\n",
              "    </g>\n",
              "</svg>\n",
              "  </button>\n",
              "\n",
              "<style>\n",
              "  .colab-df-quickchart {\n",
              "      --bg-color: #E8F0FE;\n",
              "      --fill-color: #1967D2;\n",
              "      --hover-bg-color: #E2EBFA;\n",
              "      --hover-fill-color: #174EA6;\n",
              "      --disabled-fill-color: #AAA;\n",
              "      --disabled-bg-color: #DDD;\n",
              "  }\n",
              "\n",
              "  [theme=dark] .colab-df-quickchart {\n",
              "      --bg-color: #3B4455;\n",
              "      --fill-color: #D2E3FC;\n",
              "      --hover-bg-color: #434B5C;\n",
              "      --hover-fill-color: #FFFFFF;\n",
              "      --disabled-bg-color: #3B4455;\n",
              "      --disabled-fill-color: #666;\n",
              "  }\n",
              "\n",
              "  .colab-df-quickchart {\n",
              "    background-color: var(--bg-color);\n",
              "    border: none;\n",
              "    border-radius: 50%;\n",
              "    cursor: pointer;\n",
              "    display: none;\n",
              "    fill: var(--fill-color);\n",
              "    height: 32px;\n",
              "    padding: 0;\n",
              "    width: 32px;\n",
              "  }\n",
              "\n",
              "  .colab-df-quickchart:hover {\n",
              "    background-color: var(--hover-bg-color);\n",
              "    box-shadow: 0 1px 2px rgba(60, 64, 67, 0.3), 0 1px 3px 1px rgba(60, 64, 67, 0.15);\n",
              "    fill: var(--button-hover-fill-color);\n",
              "  }\n",
              "\n",
              "  .colab-df-quickchart-complete:disabled,\n",
              "  .colab-df-quickchart-complete:disabled:hover {\n",
              "    background-color: var(--disabled-bg-color);\n",
              "    fill: var(--disabled-fill-color);\n",
              "    box-shadow: none;\n",
              "  }\n",
              "\n",
              "  .colab-df-spinner {\n",
              "    border: 2px solid var(--fill-color);\n",
              "    border-color: transparent;\n",
              "    border-bottom-color: var(--fill-color);\n",
              "    animation:\n",
              "      spin 1s steps(1) infinite;\n",
              "  }\n",
              "\n",
              "  @keyframes spin {\n",
              "    0% {\n",
              "      border-color: transparent;\n",
              "      border-bottom-color: var(--fill-color);\n",
              "      border-left-color: var(--fill-color);\n",
              "    }\n",
              "    20% {\n",
              "      border-color: transparent;\n",
              "      border-left-color: var(--fill-color);\n",
              "      border-top-color: var(--fill-color);\n",
              "    }\n",
              "    30% {\n",
              "      border-color: transparent;\n",
              "      border-left-color: var(--fill-color);\n",
              "      border-top-color: var(--fill-color);\n",
              "      border-right-color: var(--fill-color);\n",
              "    }\n",
              "    40% {\n",
              "      border-color: transparent;\n",
              "      border-right-color: var(--fill-color);\n",
              "      border-top-color: var(--fill-color);\n",
              "    }\n",
              "    60% {\n",
              "      border-color: transparent;\n",
              "      border-right-color: var(--fill-color);\n",
              "    }\n",
              "    80% {\n",
              "      border-color: transparent;\n",
              "      border-right-color: var(--fill-color);\n",
              "      border-bottom-color: var(--fill-color);\n",
              "    }\n",
              "    90% {\n",
              "      border-color: transparent;\n",
              "      border-bottom-color: var(--fill-color);\n",
              "    }\n",
              "  }\n",
              "</style>\n",
              "\n",
              "  <script>\n",
              "    async function quickchart(key) {\n",
              "      const quickchartButtonEl =\n",
              "        document.querySelector('#' + key + ' button');\n",
              "      quickchartButtonEl.disabled = true;  // To prevent multiple clicks.\n",
              "      quickchartButtonEl.classList.add('colab-df-spinner');\n",
              "      try {\n",
              "        const charts = await google.colab.kernel.invokeFunction(\n",
              "            'suggestCharts', [key], {});\n",
              "      } catch (error) {\n",
              "        console.error('Error during call to suggestCharts:', error);\n",
              "      }\n",
              "      quickchartButtonEl.classList.remove('colab-df-spinner');\n",
              "      quickchartButtonEl.classList.add('colab-df-quickchart-complete');\n",
              "    }\n",
              "    (() => {\n",
              "      let quickchartButtonEl =\n",
              "        document.querySelector('#df-bbcaa375-21c7-4af5-b914-7c6ef4aaf611 button');\n",
              "      quickchartButtonEl.style.display =\n",
              "        google.colab.kernel.accessAllowed ? 'block' : 'none';\n",
              "    })();\n",
              "  </script>\n",
              "</div>\n",
              "    </div>\n",
              "  </div>\n"
            ]
          },
          "metadata": {},
          "execution_count": 6
        }
      ],
      "source": [
        "df = pd.read_csv('2011_US_AGRI_Exports')\n",
        "df.head()"
      ]
    },
    {
      "cell_type": "code",
      "source": [
        "df.shape"
      ],
      "metadata": {
        "colab": {
          "base_uri": "https://localhost:8080/"
        },
        "id": "2rQ3oAcVp7YD",
        "outputId": "6e731220-90fa-474f-ba89-f8a25f52bf9a"
      },
      "execution_count": 16,
      "outputs": [
        {
          "output_type": "execute_result",
          "data": {
            "text/plain": [
              "(50, 18)"
            ]
          },
          "metadata": {},
          "execution_count": 16
        }
      ]
    },
    {
      "cell_type": "code",
      "source": [
        "df.info()"
      ],
      "metadata": {
        "colab": {
          "base_uri": "https://localhost:8080/"
        },
        "id": "OjIlyHW9qFPb",
        "outputId": "b6d6c8e6-962c-4d52-eec5-7e8f5073841a"
      },
      "execution_count": 17,
      "outputs": [
        {
          "output_type": "stream",
          "name": "stdout",
          "text": [
            "<class 'pandas.core.frame.DataFrame'>\n",
            "RangeIndex: 50 entries, 0 to 49\n",
            "Data columns (total 18 columns):\n",
            " #   Column         Non-Null Count  Dtype  \n",
            "---  ------         --------------  -----  \n",
            " 0   code           50 non-null     object \n",
            " 1   state          50 non-null     object \n",
            " 2   category       50 non-null     object \n",
            " 3   total exports  50 non-null     float64\n",
            " 4   beef           50 non-null     float64\n",
            " 5   pork           50 non-null     float64\n",
            " 6   poultry        50 non-null     float64\n",
            " 7   dairy          50 non-null     float64\n",
            " 8   fruits fresh   50 non-null     float64\n",
            " 9   fruits proc    50 non-null     float64\n",
            " 10  total fruits   50 non-null     float64\n",
            " 11  veggies fresh  50 non-null     float64\n",
            " 12  veggies proc   50 non-null     float64\n",
            " 13  total veggies  50 non-null     float64\n",
            " 14  corn           50 non-null     float64\n",
            " 15  wheat          50 non-null     float64\n",
            " 16  cotton         50 non-null     float64\n",
            " 17  text           50 non-null     object \n",
            "dtypes: float64(14), object(4)\n",
            "memory usage: 7.2+ KB\n"
          ]
        }
      ]
    },
    {
      "cell_type": "code",
      "source": [
        "df.isnull().sum()"
      ],
      "metadata": {
        "colab": {
          "base_uri": "https://localhost:8080/"
        },
        "id": "rqZVPFskmw6-",
        "outputId": "ca0f6162-2cb6-4617-86cd-1f04aeef3287"
      },
      "execution_count": 11,
      "outputs": [
        {
          "output_type": "execute_result",
          "data": {
            "text/plain": [
              "code             0\n",
              "state            0\n",
              "category         0\n",
              "total exports    0\n",
              "beef             0\n",
              "pork             0\n",
              "poultry          0\n",
              "dairy            0\n",
              "fruits fresh     0\n",
              "fruits proc      0\n",
              "total fruits     0\n",
              "veggies fresh    0\n",
              "veggies proc     0\n",
              "total veggies    0\n",
              "corn             0\n",
              "wheat            0\n",
              "cotton           0\n",
              "text             0\n",
              "dtype: int64"
            ]
          },
          "metadata": {},
          "execution_count": 11
        }
      ]
    },
    {
      "cell_type": "markdown",
      "metadata": {
        "id": "PlIHCamIdDoD"
      },
      "source": [
        "Now out data dictionary with some extra marker and colorbar arguments:"
      ]
    },
    {
      "cell_type": "code",
      "execution_count": 12,
      "metadata": {
        "id": "UDyjwrrSdDoD"
      },
      "outputs": [],
      "source": [
        "data = dict(type='choropleth',\n",
        "            colorscale = 'Picnic',\n",
        "            locations = df['code'],\n",
        "            z = df['total exports'],\n",
        "            locationmode = 'USA-states',\n",
        "            text = df['text'],\n",
        "            marker = dict(line = dict(color = 'rgb(255,255,255)',width = 1)),\n",
        "            colorbar = {'title':\"Millions USD\"}\n",
        "            )"
      ]
    },
    {
      "cell_type": "markdown",
      "metadata": {
        "id": "YVB7v22KdDoD"
      },
      "source": [
        "And our layout dictionary with some more arguments:"
      ]
    },
    {
      "cell_type": "code",
      "execution_count": 13,
      "metadata": {
        "collapsed": true,
        "id": "5l-4qqd7dDoE"
      },
      "outputs": [],
      "source": [
        "layout = dict(title = '2011 US Agriculture Exports by State',\n",
        "              geo = dict(scope='usa',\n",
        "                         showlakes = True,\n",
        "                         lakecolor = 'rgb(85,173,240)')\n",
        "             )"
      ]
    },
    {
      "cell_type": "code",
      "execution_count": 14,
      "metadata": {
        "collapsed": true,
        "id": "DBgKJWVVdDoE"
      },
      "outputs": [],
      "source": [
        "choromap = go.Figure(data = [data],layout = layout)"
      ]
    },
    {
      "cell_type": "code",
      "execution_count": 15,
      "metadata": {
        "colab": {
          "base_uri": "https://localhost:8080/",
          "height": 36
        },
        "id": "C64ns88odDoE",
        "outputId": "6762cd76-3f01-4720-c78f-f05e6fe3b277"
      },
      "outputs": [
        {
          "output_type": "execute_result",
          "data": {
            "text/plain": [
              "'temp-plot.html'"
            ],
            "application/vnd.google.colaboratory.intrinsic+json": {
              "type": "string"
            }
          },
          "metadata": {},
          "execution_count": 15
        }
      ],
      "source": [
        "plot(choromap)"
      ]
    },
    {
      "cell_type": "markdown",
      "metadata": {
        "id": "wJTiiWwNdDoE"
      },
      "source": [
        "# World Choropleth Map\n",
        "\n",
        "Now let's see an example with a World Map:"
      ]
    },
    {
      "cell_type": "code",
      "execution_count": 27,
      "metadata": {
        "colab": {
          "base_uri": "https://localhost:8080/",
          "height": 206
        },
        "id": "ezSn_0N7dDoE",
        "outputId": "7f3148f1-a62e-468f-c3b6-7a4a1733ebc7"
      },
      "outputs": [
        {
          "output_type": "execute_result",
          "data": {
            "text/plain": [
              "          COUNTRY  GDP (BILLIONS) CODE\n",
              "0     Afghanistan           21.71  AFG\n",
              "1         Albania           13.40  ALB\n",
              "2         Algeria          227.80  DZA\n",
              "3  American Samoa            0.75  ASM\n",
              "4         Andorra            4.80  AND"
            ],
            "text/html": [
              "\n",
              "  <div id=\"df-34b328cf-d496-4aa1-ab18-acd183ed23b3\" class=\"colab-df-container\">\n",
              "    <div>\n",
              "<style scoped>\n",
              "    .dataframe tbody tr th:only-of-type {\n",
              "        vertical-align: middle;\n",
              "    }\n",
              "\n",
              "    .dataframe tbody tr th {\n",
              "        vertical-align: top;\n",
              "    }\n",
              "\n",
              "    .dataframe thead th {\n",
              "        text-align: right;\n",
              "    }\n",
              "</style>\n",
              "<table border=\"1\" class=\"dataframe\">\n",
              "  <thead>\n",
              "    <tr style=\"text-align: right;\">\n",
              "      <th></th>\n",
              "      <th>COUNTRY</th>\n",
              "      <th>GDP (BILLIONS)</th>\n",
              "      <th>CODE</th>\n",
              "    </tr>\n",
              "  </thead>\n",
              "  <tbody>\n",
              "    <tr>\n",
              "      <th>0</th>\n",
              "      <td>Afghanistan</td>\n",
              "      <td>21.71</td>\n",
              "      <td>AFG</td>\n",
              "    </tr>\n",
              "    <tr>\n",
              "      <th>1</th>\n",
              "      <td>Albania</td>\n",
              "      <td>13.40</td>\n",
              "      <td>ALB</td>\n",
              "    </tr>\n",
              "    <tr>\n",
              "      <th>2</th>\n",
              "      <td>Algeria</td>\n",
              "      <td>227.80</td>\n",
              "      <td>DZA</td>\n",
              "    </tr>\n",
              "    <tr>\n",
              "      <th>3</th>\n",
              "      <td>American Samoa</td>\n",
              "      <td>0.75</td>\n",
              "      <td>ASM</td>\n",
              "    </tr>\n",
              "    <tr>\n",
              "      <th>4</th>\n",
              "      <td>Andorra</td>\n",
              "      <td>4.80</td>\n",
              "      <td>AND</td>\n",
              "    </tr>\n",
              "  </tbody>\n",
              "</table>\n",
              "</div>\n",
              "    <div class=\"colab-df-buttons\">\n",
              "\n",
              "  <div class=\"colab-df-container\">\n",
              "    <button class=\"colab-df-convert\" onclick=\"convertToInteractive('df-34b328cf-d496-4aa1-ab18-acd183ed23b3')\"\n",
              "            title=\"Convert this dataframe to an interactive table.\"\n",
              "            style=\"display:none;\">\n",
              "\n",
              "  <svg xmlns=\"http://www.w3.org/2000/svg\" height=\"24px\" viewBox=\"0 -960 960 960\">\n",
              "    <path d=\"M120-120v-720h720v720H120Zm60-500h600v-160H180v160Zm220 220h160v-160H400v160Zm0 220h160v-160H400v160ZM180-400h160v-160H180v160Zm440 0h160v-160H620v160ZM180-180h160v-160H180v160Zm440 0h160v-160H620v160Z\"/>\n",
              "  </svg>\n",
              "    </button>\n",
              "\n",
              "  <style>\n",
              "    .colab-df-container {\n",
              "      display:flex;\n",
              "      gap: 12px;\n",
              "    }\n",
              "\n",
              "    .colab-df-convert {\n",
              "      background-color: #E8F0FE;\n",
              "      border: none;\n",
              "      border-radius: 50%;\n",
              "      cursor: pointer;\n",
              "      display: none;\n",
              "      fill: #1967D2;\n",
              "      height: 32px;\n",
              "      padding: 0 0 0 0;\n",
              "      width: 32px;\n",
              "    }\n",
              "\n",
              "    .colab-df-convert:hover {\n",
              "      background-color: #E2EBFA;\n",
              "      box-shadow: 0px 1px 2px rgba(60, 64, 67, 0.3), 0px 1px 3px 1px rgba(60, 64, 67, 0.15);\n",
              "      fill: #174EA6;\n",
              "    }\n",
              "\n",
              "    .colab-df-buttons div {\n",
              "      margin-bottom: 4px;\n",
              "    }\n",
              "\n",
              "    [theme=dark] .colab-df-convert {\n",
              "      background-color: #3B4455;\n",
              "      fill: #D2E3FC;\n",
              "    }\n",
              "\n",
              "    [theme=dark] .colab-df-convert:hover {\n",
              "      background-color: #434B5C;\n",
              "      box-shadow: 0px 1px 3px 1px rgba(0, 0, 0, 0.15);\n",
              "      filter: drop-shadow(0px 1px 2px rgba(0, 0, 0, 0.3));\n",
              "      fill: #FFFFFF;\n",
              "    }\n",
              "  </style>\n",
              "\n",
              "    <script>\n",
              "      const buttonEl =\n",
              "        document.querySelector('#df-34b328cf-d496-4aa1-ab18-acd183ed23b3 button.colab-df-convert');\n",
              "      buttonEl.style.display =\n",
              "        google.colab.kernel.accessAllowed ? 'block' : 'none';\n",
              "\n",
              "      async function convertToInteractive(key) {\n",
              "        const element = document.querySelector('#df-34b328cf-d496-4aa1-ab18-acd183ed23b3');\n",
              "        const dataTable =\n",
              "          await google.colab.kernel.invokeFunction('convertToInteractive',\n",
              "                                                    [key], {});\n",
              "        if (!dataTable) return;\n",
              "\n",
              "        const docLinkHtml = 'Like what you see? Visit the ' +\n",
              "          '<a target=\"_blank\" href=https://colab.research.google.com/notebooks/data_table.ipynb>data table notebook</a>'\n",
              "          + ' to learn more about interactive tables.';\n",
              "        element.innerHTML = '';\n",
              "        dataTable['output_type'] = 'display_data';\n",
              "        await google.colab.output.renderOutput(dataTable, element);\n",
              "        const docLink = document.createElement('div');\n",
              "        docLink.innerHTML = docLinkHtml;\n",
              "        element.appendChild(docLink);\n",
              "      }\n",
              "    </script>\n",
              "  </div>\n",
              "\n",
              "\n",
              "<div id=\"df-8427bd66-5dc1-4d39-9020-2ea6a4213d8a\">\n",
              "  <button class=\"colab-df-quickchart\" onclick=\"quickchart('df-8427bd66-5dc1-4d39-9020-2ea6a4213d8a')\"\n",
              "            title=\"Suggest charts\"\n",
              "            style=\"display:none;\">\n",
              "\n",
              "<svg xmlns=\"http://www.w3.org/2000/svg\" height=\"24px\"viewBox=\"0 0 24 24\"\n",
              "     width=\"24px\">\n",
              "    <g>\n",
              "        <path d=\"M19 3H5c-1.1 0-2 .9-2 2v14c0 1.1.9 2 2 2h14c1.1 0 2-.9 2-2V5c0-1.1-.9-2-2-2zM9 17H7v-7h2v7zm4 0h-2V7h2v10zm4 0h-2v-4h2v4z\"/>\n",
              "    </g>\n",
              "</svg>\n",
              "  </button>\n",
              "\n",
              "<style>\n",
              "  .colab-df-quickchart {\n",
              "      --bg-color: #E8F0FE;\n",
              "      --fill-color: #1967D2;\n",
              "      --hover-bg-color: #E2EBFA;\n",
              "      --hover-fill-color: #174EA6;\n",
              "      --disabled-fill-color: #AAA;\n",
              "      --disabled-bg-color: #DDD;\n",
              "  }\n",
              "\n",
              "  [theme=dark] .colab-df-quickchart {\n",
              "      --bg-color: #3B4455;\n",
              "      --fill-color: #D2E3FC;\n",
              "      --hover-bg-color: #434B5C;\n",
              "      --hover-fill-color: #FFFFFF;\n",
              "      --disabled-bg-color: #3B4455;\n",
              "      --disabled-fill-color: #666;\n",
              "  }\n",
              "\n",
              "  .colab-df-quickchart {\n",
              "    background-color: var(--bg-color);\n",
              "    border: none;\n",
              "    border-radius: 50%;\n",
              "    cursor: pointer;\n",
              "    display: none;\n",
              "    fill: var(--fill-color);\n",
              "    height: 32px;\n",
              "    padding: 0;\n",
              "    width: 32px;\n",
              "  }\n",
              "\n",
              "  .colab-df-quickchart:hover {\n",
              "    background-color: var(--hover-bg-color);\n",
              "    box-shadow: 0 1px 2px rgba(60, 64, 67, 0.3), 0 1px 3px 1px rgba(60, 64, 67, 0.15);\n",
              "    fill: var(--button-hover-fill-color);\n",
              "  }\n",
              "\n",
              "  .colab-df-quickchart-complete:disabled,\n",
              "  .colab-df-quickchart-complete:disabled:hover {\n",
              "    background-color: var(--disabled-bg-color);\n",
              "    fill: var(--disabled-fill-color);\n",
              "    box-shadow: none;\n",
              "  }\n",
              "\n",
              "  .colab-df-spinner {\n",
              "    border: 2px solid var(--fill-color);\n",
              "    border-color: transparent;\n",
              "    border-bottom-color: var(--fill-color);\n",
              "    animation:\n",
              "      spin 1s steps(1) infinite;\n",
              "  }\n",
              "\n",
              "  @keyframes spin {\n",
              "    0% {\n",
              "      border-color: transparent;\n",
              "      border-bottom-color: var(--fill-color);\n",
              "      border-left-color: var(--fill-color);\n",
              "    }\n",
              "    20% {\n",
              "      border-color: transparent;\n",
              "      border-left-color: var(--fill-color);\n",
              "      border-top-color: var(--fill-color);\n",
              "    }\n",
              "    30% {\n",
              "      border-color: transparent;\n",
              "      border-left-color: var(--fill-color);\n",
              "      border-top-color: var(--fill-color);\n",
              "      border-right-color: var(--fill-color);\n",
              "    }\n",
              "    40% {\n",
              "      border-color: transparent;\n",
              "      border-right-color: var(--fill-color);\n",
              "      border-top-color: var(--fill-color);\n",
              "    }\n",
              "    60% {\n",
              "      border-color: transparent;\n",
              "      border-right-color: var(--fill-color);\n",
              "    }\n",
              "    80% {\n",
              "      border-color: transparent;\n",
              "      border-right-color: var(--fill-color);\n",
              "      border-bottom-color: var(--fill-color);\n",
              "    }\n",
              "    90% {\n",
              "      border-color: transparent;\n",
              "      border-bottom-color: var(--fill-color);\n",
              "    }\n",
              "  }\n",
              "</style>\n",
              "\n",
              "  <script>\n",
              "    async function quickchart(key) {\n",
              "      const quickchartButtonEl =\n",
              "        document.querySelector('#' + key + ' button');\n",
              "      quickchartButtonEl.disabled = true;  // To prevent multiple clicks.\n",
              "      quickchartButtonEl.classList.add('colab-df-spinner');\n",
              "      try {\n",
              "        const charts = await google.colab.kernel.invokeFunction(\n",
              "            'suggestCharts', [key], {});\n",
              "      } catch (error) {\n",
              "        console.error('Error during call to suggestCharts:', error);\n",
              "      }\n",
              "      quickchartButtonEl.classList.remove('colab-df-spinner');\n",
              "      quickchartButtonEl.classList.add('colab-df-quickchart-complete');\n",
              "    }\n",
              "    (() => {\n",
              "      let quickchartButtonEl =\n",
              "        document.querySelector('#df-8427bd66-5dc1-4d39-9020-2ea6a4213d8a button');\n",
              "      quickchartButtonEl.style.display =\n",
              "        google.colab.kernel.accessAllowed ? 'block' : 'none';\n",
              "    })();\n",
              "  </script>\n",
              "</div>\n",
              "    </div>\n",
              "  </div>\n"
            ]
          },
          "metadata": {},
          "execution_count": 27
        }
      ],
      "source": [
        "df = pd.read_csv('2014_World_GDP')\n",
        "df.head()"
      ]
    },
    {
      "cell_type": "code",
      "execution_count": 34,
      "metadata": {
        "id": "p_B1afASdDoE"
      },
      "outputs": [],
      "source": [
        "# Choropleth map data\n",
        "data = dict(\n",
        "    type='choropleth',\n",
        "    locations=df['CODE'],\n",
        "    colorscale='Greens',\n",
        "    z=df['GDP (BILLIONS)'],\n",
        "    text=df['COUNTRY'],\n",
        "    colorbar={'title': 'GDP Billions US'}\n",
        ")\n"
      ]
    },
    {
      "cell_type": "code",
      "source": [
        "layout = dict(\n",
        "    title = '2014 Global GDP',\n",
        "    geo=dict(\n",
        "        showframe = False,\n",
        "        projection=dict(type='natural earth')  # Specify a valid projection type\n",
        "    )\n",
        ")"
      ],
      "metadata": {
        "id": "2Y-NuVyTuYvJ"
      },
      "execution_count": 35,
      "outputs": []
    },
    {
      "cell_type": "code",
      "execution_count": 38,
      "metadata": {
        "id": "ZxglQ7qFdDoE"
      },
      "outputs": [],
      "source": [
        "# layout = dict(\n",
        "#     title = '2014 Global GDP',\n",
        "#     geo=dict(\n",
        "#         scope='world',\n",
        "#         projection=dict(type='natural earth')  # Specify a valid projection type\n",
        "#     )\n",
        "# )\n"
      ]
    },
    {
      "cell_type": "code",
      "execution_count": 36,
      "metadata": {
        "id": "-uz3ZArFdDoE"
      },
      "outputs": [],
      "source": [
        "choromap = go.Figure(data = [data],layout = layout)"
      ]
    },
    {
      "cell_type": "code",
      "source": [
        "plot(choromap)"
      ],
      "metadata": {
        "colab": {
          "base_uri": "https://localhost:8080/",
          "height": 36
        },
        "id": "V5zNaZdotE5W",
        "outputId": "88a094aa-6635-464b-c4d2-749138286f11"
      },
      "execution_count": 37,
      "outputs": [
        {
          "output_type": "execute_result",
          "data": {
            "text/plain": [
              "'temp-plot.html'"
            ],
            "application/vnd.google.colaboratory.intrinsic+json": {
              "type": "string"
            }
          },
          "metadata": {},
          "execution_count": 37
        }
      ]
    },
    {
      "cell_type": "markdown",
      "source": [
        "saved the above visualization the the world-gdp- html file"
      ],
      "metadata": {
        "id": "1I5xvePerL59"
      }
    }
  ],
  "metadata": {
    "kernelspec": {
      "display_name": "Python 3",
      "name": "python3"
    },
    "language_info": {
      "codemirror_mode": {
        "name": "ipython",
        "version": 3
      },
      "file_extension": ".py",
      "mimetype": "text/x-python",
      "name": "python",
      "nbconvert_exporter": "python",
      "pygments_lexer": "ipython3",
      "version": "3.5.1"
    },
    "colab": {
      "provenance": [],
      "gpuType": "T4"
    },
    "accelerator": "GPU"
  },
  "nbformat": 4,
  "nbformat_minor": 0
}